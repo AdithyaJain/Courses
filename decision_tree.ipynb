{
 "cells": [
  {
   "cell_type": "code",
   "execution_count": 1,
   "metadata": {},
   "outputs": [
    {
     "name": "stderr",
     "output_type": "stream",
     "text": [
      "/home/sushmitha/tmp/new/lib/python3.6/site-packages/sklearn/ensemble/weight_boosting.py:29: DeprecationWarning: numpy.core.umath_tests is an internal NumPy module and should not be imported. It will be removed in a future NumPy release.\n",
      "  from numpy.core.umath_tests import inner1d\n",
      "/home/sushmitha/tmp/new/lib/python3.6/site-packages/h5py/__init__.py:34: FutureWarning: Conversion of the second argument of issubdtype from `float` to `np.floating` is deprecated. In future, it will be treated as `np.float64 == np.dtype(float).type`.\n",
      "  from ._conv import register_converters as _register_converters\n",
      "Using TensorFlow backend.\n"
     ]
    }
   ],
   "source": [
    "import os\n",
    "import cv2\n",
    "import pickle\n",
    "import numpy as np\n",
    "import pdb\n",
    "import requests\n",
    "from collections import defaultdict\n",
    "import random \n",
    "import time\n",
    "import matplotlib.pyplot as plt \n",
    "\n",
    "from sklearn.preprocessing import normalize\n",
    "from sklearn.decomposition import PCA\n",
    "from sklearn.svm import SVC\n",
    "from sklearn.metrics import f1_score, accuracy_score\n",
    "from sklearn import preprocessing\n",
    "from sklearn.model_selection import train_test_split\n",
    "from sklearn.neural_network import MLPClassifier\n",
    "from sklearn.metrics import classification_report, confusion_matrix\n",
    "from sklearn.discriminant_analysis import LinearDiscriminantAnalysis\n",
    "from sklearn import tree\n",
    "from sklearn.ensemble import RandomForestClassifier\n",
    "\n",
    "\n",
    "from tqdm import *\n",
    "\n",
    "from functools import wraps\n",
    "from time import time as _timenow \n",
    "from sys import stderr\n",
    "\n",
    "import keras\n",
    "from keras.models import Sequential\n",
    "from keras.utils import np_utils\n",
    "from keras.preprocessing.image import ImageDataGenerator\n",
    "from keras.layers import Dense, Activation, Flatten, Dropout, BatchNormalization\n",
    "from keras.layers import Conv2D, MaxPooling2D\n",
    "from keras.datasets import cifar10\n",
    "from keras import regularizers\n",
    "from keras.callbacks import LearningRateScheduler\n",
    "from keras.datasets import cifar10 \n",
    "\n",
    "\n",
    "\n"
   ]
  },
  {
   "cell_type": "markdown",
   "metadata": {},
   "source": [
    "## Load CIFAR-10 Data"
   ]
  },
  {
   "cell_type": "code",
   "execution_count": 3,
   "metadata": {
    "collapsed": true
   },
   "outputs": [],
   "source": [
    "def unpickle(file):\n",
    "    with open(file, 'rb') as fo:\n",
    "        data = pickle.load(fo, encoding='latin1')\n",
    "    return data"
   ]
  },
  {
   "cell_type": "code",
   "execution_count": 4,
   "metadata": {
    "collapsed": true
   },
   "outputs": [],
   "source": [
    "def load_cifar():\n",
    "    \n",
    "    trn_data, trn_labels, tst_data, tst_labels = [], [], [], []\n",
    "    \n",
    "    for i in trange(1):\n",
    "        batchName = './data/data_batch_{0}'.format(i + 1)\n",
    "        unpickled = unpickle(batchName)\n",
    "        trn_data.extend(unpickled['data'])\n",
    "        trn_labels.extend(unpickled['labels'])\n",
    "    unpickled = unpickle('./data/test_batch')\n",
    "    tst_data.extend(unpickled['data'])\n",
    "    tst_labels.extend(unpickled['labels'])\n",
    "    return trn_data, trn_labels, tst_data, tst_labels\n"
   ]
  },
  {
   "cell_type": "markdown",
   "metadata": {},
   "source": [
    "## Image preprocessing"
   ]
  },
  {
   "cell_type": "code",
   "execution_count": 5,
   "metadata": {
    "collapsed": true
   },
   "outputs": [],
   "source": [
    "def image_prep(train, test):\n",
    "    ''' pre-processes the given image\n",
    "        performs mean normalization and other such operations'''\n",
    "\n",
    "    scaler = preprocessing.StandardScaler().fit(train)\n",
    "    train_data = scaler.transform(train)\n",
    "    test_data = scaler.transform(test)\n",
    "    \n",
    "    return train_data, test_data"
   ]
  },
  {
   "cell_type": "markdown",
   "metadata": {},
   "source": [
    "## Dimensionality reduction using PCA"
   ]
  },
  {
   "cell_type": "code",
   "execution_count": 10,
   "metadata": {
    "collapsed": true
   },
   "outputs": [],
   "source": [
    "def reduce_dim(**kwargs):\n",
    "    ''' performs dimensionality reduction'''\n",
    "    if kwargs['method'] == 'pca':\n",
    "        pca = PCA(n_components=kwargs['no_of_comp'])\n",
    "        pca = pca.fit(kwargs['train'])\n",
    "        train_new = pca.transform(kwargs['train'])\n",
    "        test_new = pca.transform(kwargs['test'])\n",
    "        return train_new, test_new\n",
    "    elif kwargs['method'] == 'lda':\n",
    "        clf = LinearDiscriminantAnalysis(n_components=600)\n",
    "        clf = clf.fit(kwargs['train'], kwargs['train_label'])\n",
    "        train_new = clf.transform(kwargs['train'])\n",
    "        test_new = clf.transform(kwargs['test'])\n",
    "        return train_new, test_new"
   ]
  },
  {
   "cell_type": "markdown",
   "metadata": {},
   "source": [
    "## Classification using kernel SVM"
   ]
  },
  {
   "cell_type": "code",
   "execution_count": 11,
   "metadata": {
    "collapsed": true
   },
   "outputs": [],
   "source": [
    "def classify(X, y, **kwargs):\n",
    "#     n_estimators is number of trees in the forest.\n",
    "#     min_samples_split is minimum number of samples required to split an internal node\n",
    "    if kwargs['method'] == 'CART':\n",
    "        model = RandomForestClassifier(n_estimators=kwargs['num_trees'], min_samples_split=kwargs['min_samples_split'], bootstrap=True)\n",
    "        model = model.fit(X, y)\n",
    "        return model\n",
    "    else:\n",
    "        pass"
   ]
  },
  {
   "cell_type": "markdown",
   "metadata": {},
   "source": [
    "## Evaluation "
   ]
  },
  {
   "cell_type": "code",
   "execution_count": 12,
   "metadata": {
    "collapsed": true
   },
   "outputs": [],
   "source": [
    "def evaluate(target, predicted):\n",
    "    f1 = f1_score(target, predicted, average='micro')\n",
    "    acc = accuracy_score(target, predicted)\n",
    "    return f1, acc"
   ]
  },
  {
   "cell_type": "code",
   "execution_count": 17,
   "metadata": {
    "collapsed": true
   },
   "outputs": [],
   "source": [
    "def test(**kwargs):\n",
    "    if kwargs['method'] == 'CART':\n",
    "        model = kwargs['model']\n",
    "        X_test = kwargs['test']\n",
    "        predictions = model.predict(X_test)\n",
    "        \n",
    "        return predictions"
   ]
  },
  {
   "cell_type": "code",
   "execution_count": 20,
   "metadata": {
    "collapsed": true
   },
   "outputs": [],
   "source": [
    "def find_n_estimators(): \n",
    "    num_trees_arr=[]\n",
    "    acc=[]\n",
    "    i=50\n",
    "    trn_data, trn_labels, tst_data, tst_labels = load_cifar()\n",
    "    X_train, X_test, y_train, y_test = train_test_split(trn_data, trn_labels,test_size = 0.20) \n",
    "    while(i<420):\n",
    "        trn_data, tst_data = image_prep(X_train, X_test)\n",
    "        model = classify(trn_data, y_train, num_trees=i, min_samples_split=5, method='CART')\n",
    "        output = test(test = tst_data, model= model, method='CART')\n",
    "        f_score, accuracy = evaluate(y_test, output)\n",
    "        print('Val - F1 score: {}\\n Accuracy: {}'.format(f_score, accuracy))\n",
    "        acc.append(accuracy)\n",
    "        num_trees_arr.append(i)\n",
    "        \n",
    "        i+=50\n",
    "        \n",
    "        \n",
    "    return acc, num_trees_arr"
   ]
  },
  {
   "cell_type": "code",
   "execution_count": 21,
   "metadata": {},
   "outputs": [
    {
     "name": "stderr",
     "output_type": "stream",
     "text": [
      "100%|██████████| 1/1 [00:00<00:00, 49.85it/s]\n"
     ]
    },
    {
     "name": "stdout",
     "output_type": "stream",
     "text": [
      "Val - F1 score: 0.3985\n",
      " Accuracy: 0.3985\n",
      "Val - F1 score: 0.4195\n",
      " Accuracy: 0.4195\n",
      "Val - F1 score: 0.4285\n",
      " Accuracy: 0.4285\n",
      "Val - F1 score: 0.433\n",
      " Accuracy: 0.433\n",
      "Val - F1 score: 0.4405\n",
      " Accuracy: 0.4405\n",
      "Val - F1 score: 0.445\n",
      " Accuracy: 0.445\n",
      "Val - F1 score: 0.439\n",
      " Accuracy: 0.439\n",
      "Val - F1 score: 0.435\n",
      " Accuracy: 0.435\n"
     ]
    },
    {
     "data": {
      "image/png": "[encoded data removed]",
      "text/plain": [
       "<matplotlib.figure.Figure at 0x7f79d2146dd8>"
      ]
     },
     "metadata": {},
     "output_type": "display_data"
    }
   ],
   "source": [
    "acc, num_trees_arr = find_n_estimators()\n",
    "plt.plot(num_trees_arr, acc)\n",
    "plt.xlabel('No. of trees used') \n",
    "plt.ylabel('Accuracy') \n",
    "plt.show()"
   ]
  },
  {
   "cell_type": "code",
   "execution_count": 26,
   "metadata": {
    "collapsed": true
   },
   "outputs": [],
   "source": [
    "def find_num_pca_components():\n",
    "    i=50\n",
    "    acc=[]\n",
    "    x_axis=[]\n",
    "    trn_data, trn_labels, tst_data, tst_labels = load_cifar()\n",
    "    X_train, X_test, y_train, y_test = train_test_split(trn_data, trn_labels,test_size = 0.20)\n",
    "    while(i<250):\n",
    "        trn_data, tst_data = image_prep(X_train, X_test)\n",
    "        trn_data, tst_data = reduce_dim(train=trn_data, test=tst_data, train_label=y_train,method='pca',no_of_comp=i)\n",
    "        model = classify(trn_data, y_train, num_trees=300, min_samples_split=5, method='CART')\n",
    "        output = test(test = tst_data, model= model, method='CART')\n",
    "        f_score, accuracy = evaluate(y_test, output)\n",
    "        print('Val - F1 score: {}\\n Accuracy: {}'.format(f_score, accuracy))\n",
    "        acc.append(accuracy)\n",
    "        x_axis.append(i)\n",
    "        i+=10\n",
    "    return acc, x_axis"
   ]
  },
  {
   "cell_type": "code",
   "execution_count": 27,
   "metadata": {},
   "outputs": [
    {
     "name": "stderr",
     "output_type": "stream",
     "text": [
      "100%|██████████| 1/1 [00:00<00:00, 43.18it/s]\n"
     ]
    },
    {
     "name": "stdout",
     "output_type": "stream",
     "text": [
      "Val - F1 score: 0.4425\n",
      " Accuracy: 0.4425\n",
      "Val - F1 score: 0.44\n",
      " Accuracy: 0.44\n",
      "Val - F1 score: 0.4475\n",
      " Accuracy: 0.4475\n",
      "Val - F1 score: 0.4535\n",
      " Accuracy: 0.4535\n",
      "Val - F1 score: 0.439\n",
      " Accuracy: 0.439\n",
      "Val - F1 score: 0.43849999999999995\n",
      " Accuracy: 0.4385\n",
      "Val - F1 score: 0.451\n",
      " Accuracy: 0.451\n",
      "Val - F1 score: 0.4405\n",
      " Accuracy: 0.4405\n",
      "Val - F1 score: 0.439\n",
      " Accuracy: 0.439\n",
      "Val - F1 score: 0.451\n",
      " Accuracy: 0.451\n",
      "Val - F1 score: 0.436\n",
      " Accuracy: 0.436\n",
      "Val - F1 score: 0.439\n",
      " Accuracy: 0.439\n",
      "Val - F1 score: 0.4515\n",
      " Accuracy: 0.4515\n",
      "Val - F1 score: 0.433\n",
      " Accuracy: 0.433\n",
      "Val - F1 score: 0.4345\n",
      " Accuracy: 0.4345\n",
      "Val - F1 score: 0.4255\n",
      " Accuracy: 0.4255\n",
      "Val - F1 score: 0.4305\n",
      " Accuracy: 0.4305\n",
      "Val - F1 score: 0.419\n",
      " Accuracy: 0.419\n",
      "Val - F1 score: 0.422\n",
      " Accuracy: 0.422\n",
      "Val - F1 score: 0.411\n",
      " Accuracy: 0.411\n"
     ]
    },
    {
     "data": {
      "image/png": "[encoded data removed]",
      "text/plain": [
       "<matplotlib.figure.Figure at 0x7f79d20a8e48>"
      ]
     },
     "metadata": {},
     "output_type": "display_data"
    }
   ],
   "source": [
    "acc, x_axis = find_num_pca_components()\n",
    "plt.plot(x_axis, acc)\n",
    "plt.xlabel('No. of PCA components') \n",
    "plt.ylabel('Accuracy') \n",
    "plt.show()"
   ]
  },
  {
   "cell_type": "code",
   "execution_count": 30,
   "metadata": {
    "collapsed": true
   },
   "outputs": [],
   "source": [
    "def find_min_samples_split():\n",
    "    i=2\n",
    "    acc=[]\n",
    "    x_axis=[]\n",
    "    trn_data, trn_labels, tst_data, tst_labels = load_cifar()\n",
    "    X_train, X_test, y_train, y_test = train_test_split(trn_data, trn_labels,test_size = 0.20) \n",
    "    while i<10:\n",
    "        trn_data, tst_data = image_prep(X_train, X_test)\n",
    "        trn_data, tst_data = reduce_dim(train=trn_data, test=tst_data, train_label=y_train,method='pca',no_of_comp=80)\n",
    "        model = classify(trn_data, y_train, num_trees=300, min_samples_split=i, method='CART')\n",
    "        output = test(test = tst_data, model= model, method='CART')\n",
    "        f_score, accuracy = evaluate(y_test, output)\n",
    "        print('Val - F1 score: {}\\n Accuracy: {}'.format(f_score, accuracy))\n",
    "        acc.append(accuracy)\n",
    "        x_axis.append(i)\n",
    "        i+=1\n",
    "    return acc, x_axis"
   ]
  },
  {
   "cell_type": "code",
   "execution_count": 31,
   "metadata": {},
   "outputs": [
    {
     "name": "stderr",
     "output_type": "stream",
     "text": [
      "100%|██████████| 1/1 [00:00<00:00, 47.88it/s]\n"
     ]
    },
    {
     "name": "stdout",
     "output_type": "stream",
     "text": [
      "Val - F1 score: 0.4405\n",
      " Accuracy: 0.4405\n",
      "Val - F1 score: 0.4565000000000001\n",
      " Accuracy: 0.4565\n",
      "Val - F1 score: 0.449\n",
      " Accuracy: 0.449\n",
      "Val - F1 score: 0.464\n",
      " Accuracy: 0.464\n",
      "Val - F1 score: 0.4535\n",
      " Accuracy: 0.4535\n",
      "Val - F1 score: 0.443\n",
      " Accuracy: 0.443\n",
      "Val - F1 score: 0.4505\n",
      " Accuracy: 0.4505\n",
      "Val - F1 score: 0.445\n",
      " Accuracy: 0.445\n"
     ]
    },
    {
     "data": {
      "image/png": "[encoded data removed]",
      "text/plain": [
       "<matplotlib.figure.Figure at 0x7f79d02bdf60>"
      ]
     },
     "metadata": {},
     "output_type": "display_data"
    }
   ],
   "source": [
    "acc, x_axis = find_min_samples_split()\n",
    "plt.plot(x_axis, acc)\n",
    "plt.xlabel('min_split') \n",
    "plt.ylabel('Accuracy') \n",
    "plt.show()"
   ]
  },
  {
   "cell_type": "code",
   "execution_count": 32,
   "metadata": {},
   "outputs": [
    {
     "name": "stderr",
     "output_type": "stream",
     "text": [
      "100%|██████████| 1/1 [00:00<00:00,  1.59it/s]\n"
     ]
    }
   ],
   "source": [
    "trn_data, trn_labels, tst_data, tst_labels = load_cifar()\n",
    "X_train, X_test, y_train, y_test = train_test_split(trn_data, trn_labels, test_size = 0.20)"
   ]
  },
  {
   "cell_type": "code",
   "execution_count": 35,
   "metadata": {},
   "outputs": [
    {
     "name": "stderr",
     "output_type": "stream",
     "text": [
      "100%|██████████| 1/1 [00:00<00:00,  1.30it/s]\n"
     ]
    },
    {
     "name": "stdout",
     "output_type": "stream",
     "text": [
      "Val - F1 score: 0.4271\n",
      " Accuracy: 0.4271\n"
     ]
    }
   ],
   "source": [
    "# running on raw data\n",
    "\n",
    "trn_data, tst_data = image_prep(X_train, tst_data)\n",
    "model = classify(trn_data, y_train, num_trees=300, min_samples_split=5, method='CART')\n",
    "output = test(test = tst_data, model= model, method='CART')\n",
    "f_score, accuracy = evaluate(tst_labels, output)\n",
    "print('Val - F1 score: {}\\n Accuracy: {}'.format(f_score, accuracy))"
   ]
  },
  {
   "cell_type": "code",
   "execution_count": 36,
   "metadata": {},
   "outputs": [
    {
     "name": "stderr",
     "output_type": "stream",
     "text": [
      "100%|██████████| 1/1 [00:00<00:00, 19.60it/s]\n"
     ]
    },
    {
     "name": "stdout",
     "output_type": "stream",
     "text": [
      "Val - F1 score: 0.4423\n",
      " Accuracy: 0.4423\n"
     ]
    }
   ],
   "source": [
    "# PCA reduction\n",
    "\n",
    "trn_data, trn_labels, tst_data, tst_labels = load_cifar()\n",
    "X_train, X_test, y_train, y_test = train_test_split(trn_data, trn_labels, test_size = 0.20)\n",
    "\n",
    "trn_data, tst_data = image_prep(X_train, tst_data)\n",
    "trn_data, tst_data = reduce_dim(train=trn_data, test=tst_data, train_label=y_train, method='pca',no_of_comp=80)\n",
    "model = classify(trn_data, y_train, num_trees=300, min_samples_split=5, method='CART')\n",
    "output = test(test = tst_data, model= model, method='CART')\n",
    "f_score, accuracy = evaluate(tst_labels, output)\n",
    "print('Val - F1 score: {}\\n Accuracy: {}'.format(f_score, accuracy))"
   ]
  },
  {
   "cell_type": "code",
   "execution_count": 37,
   "metadata": {},
   "outputs": [
    {
     "name": "stderr",
     "output_type": "stream",
     "text": [
      "100%|██████████| 1/1 [00:00<00:00, 31.33it/s]\n"
     ]
    },
    {
     "name": "stdout",
     "output_type": "stream",
     "text": [
      "Val - F1 score: 0.2397\n",
      " Accuracy: 0.2397\n"
     ]
    }
   ],
   "source": [
    "#  data reduction with LDA\n",
    "\n",
    "trn_data, trn_labels, tst_data, tst_labels = load_cifar()\n",
    "X_train, X_test, y_train, y_test = train_test_split(trn_data, trn_labels, test_size = 0.20)\n",
    "\n",
    "trn_data, tst_data = image_prep(X_train, tst_data)\n",
    "trn_data, tst_data = reduce_dim(train=trn_data, test=tst_data, train_label=y_train, method='lda',no_of_comp=700)\n",
    "model = classify(trn_data, y_train, num_trees=300, min_samples_split=5, method='CART')\n",
    "output = test(test = tst_data, model= model, method='CART')\n",
    "f_score, accuracy = evaluate(tst_labels, output)\n",
    "print('Val - F1 score: {}\\n Accuracy: {}'.format(f_score, accuracy))"
   ]
  }
 ],
 "metadata": {
  "kernelspec": {
   "display_name": "Python 3",
   "language": "python",
   "name": "python3"
  },
  "language_info": {
   "codemirror_mode": {
    "name": "ipython",
    "version": 3
   },
   "file_extension": ".py",
   "mimetype": "text/x-python",
   "name": "python",
   "nbconvert_exporter": "python",
   "pygments_lexer": "ipython3",
   "version": "3.6.3"
  }
 },
 "nbformat": 4,
 "nbformat_minor": 2
}
